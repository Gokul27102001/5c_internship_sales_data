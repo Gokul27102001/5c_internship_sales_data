{
 "cells": [
  {
   "cell_type": "code",
   "execution_count": 3,
   "id": "988b959e",
   "metadata": {},
   "outputs": [
    {
     "name": "stderr",
     "output_type": "stream",
     "text": [
      "C:\\Users\\gokul\\anaconda3\\lib\\site-packages\\scipy\\__init__.py:138: UserWarning: A NumPy version >=1.16.5 and <1.23.0 is required for this version of SciPy (detected version 1.23.5)\n",
      "  warnings.warn(f\"A NumPy version >={np_minversion} and <{np_maxversion} is required for this version of \"\n"
     ]
    }
   ],
   "source": [
    "import pandas as pd\n",
    "import seaborn as sns\n",
    "import matplotlib.pyplot as plt"
   ]
  },
  {
   "cell_type": "code",
   "execution_count": 5,
   "id": "e9c0fd66",
   "metadata": {},
   "outputs": [],
   "source": [
    "df=pd.read_csv(\"sales_data_1.csv\")"
   ]
  },
  {
   "cell_type": "code",
   "execution_count": 6,
   "id": "da5344f7",
   "metadata": {},
   "outputs": [
    {
     "data": {
      "text/html": [
       "<div>\n",
       "<style scoped>\n",
       "    .dataframe tbody tr th:only-of-type {\n",
       "        vertical-align: middle;\n",
       "    }\n",
       "\n",
       "    .dataframe tbody tr th {\n",
       "        vertical-align: top;\n",
       "    }\n",
       "\n",
       "    .dataframe thead th {\n",
       "        text-align: right;\n",
       "    }\n",
       "</style>\n",
       "<table border=\"1\" class=\"dataframe\">\n",
       "  <thead>\n",
       "    <tr style=\"text-align: right;\">\n",
       "      <th></th>\n",
       "      <th>Date</th>\n",
       "      <th>Firm bought from</th>\n",
       "      <th>Buying price</th>\n",
       "      <th>Customer</th>\n",
       "      <th>Selling price</th>\n",
       "      <th>Quantity sold</th>\n",
       "    </tr>\n",
       "  </thead>\n",
       "  <tbody>\n",
       "    <tr>\n",
       "      <th>0</th>\n",
       "      <td>21/08/23</td>\n",
       "      <td>Vendor6</td>\n",
       "      <td>72.11</td>\n",
       "      <td>Customer7</td>\n",
       "      <td>91.58</td>\n",
       "      <td>44</td>\n",
       "    </tr>\n",
       "    <tr>\n",
       "      <th>1</th>\n",
       "      <td>21/08/23</td>\n",
       "      <td>Vendor4</td>\n",
       "      <td>75.08</td>\n",
       "      <td>Customer7</td>\n",
       "      <td>83.71</td>\n",
       "      <td>17</td>\n",
       "    </tr>\n",
       "    <tr>\n",
       "      <th>2</th>\n",
       "      <td>21/08/23</td>\n",
       "      <td>Vendor7</td>\n",
       "      <td>83.93</td>\n",
       "      <td>Customer2</td>\n",
       "      <td>103.76</td>\n",
       "      <td>15</td>\n",
       "    </tr>\n",
       "    <tr>\n",
       "      <th>3</th>\n",
       "      <td>21/08/23</td>\n",
       "      <td>Vendor7</td>\n",
       "      <td>52.01</td>\n",
       "      <td>Customer3</td>\n",
       "      <td>64.53</td>\n",
       "      <td>7</td>\n",
       "    </tr>\n",
       "    <tr>\n",
       "      <th>4</th>\n",
       "      <td>21/08/23</td>\n",
       "      <td>Vendor2</td>\n",
       "      <td>98.91</td>\n",
       "      <td>Customer5</td>\n",
       "      <td>140.92</td>\n",
       "      <td>1</td>\n",
       "    </tr>\n",
       "  </tbody>\n",
       "</table>\n",
       "</div>"
      ],
      "text/plain": [
       "       Date Firm bought from  Buying price   Customer  Selling price  \\\n",
       "0  21/08/23          Vendor6         72.11  Customer7          91.58   \n",
       "1  21/08/23          Vendor4         75.08  Customer7          83.71   \n",
       "2  21/08/23          Vendor7         83.93  Customer2         103.76   \n",
       "3  21/08/23          Vendor7         52.01  Customer3          64.53   \n",
       "4  21/08/23          Vendor2         98.91  Customer5         140.92   \n",
       "\n",
       "   Quantity sold  \n",
       "0             44  \n",
       "1             17  \n",
       "2             15  \n",
       "3              7  \n",
       "4              1  "
      ]
     },
     "execution_count": 6,
     "metadata": {},
     "output_type": "execute_result"
    }
   ],
   "source": [
    "df.head()"
   ]
  },
  {
   "cell_type": "code",
   "execution_count": 7,
   "id": "35f4cc56",
   "metadata": {},
   "outputs": [],
   "source": [
    "df['Profit'] = (df['Selling price'] - df['Buying price']) * df['Quantity sold']"
   ]
  },
  {
   "cell_type": "code",
   "execution_count": 8,
   "id": "3ae22916",
   "metadata": {},
   "outputs": [],
   "source": [
    "# 1. Overall gross margin\n",
    "total_revenue = (df['Selling price'] * df['Quantity sold']).sum()\n",
    "total_cogs = (df['Buying price'] * df['Quantity sold']).sum()\n",
    "overall_gross_margin = (total_revenue - total_cogs) / total_revenue"
   ]
  },
  {
   "cell_type": "code",
   "execution_count": 9,
   "id": "d28d5f18",
   "metadata": {},
   "outputs": [
    {
     "name": "stdout",
     "output_type": "stream",
     "text": [
      "127804.31\n"
     ]
    }
   ],
   "source": [
    "print(total_revenue)"
   ]
  },
  {
   "cell_type": "code",
   "execution_count": 10,
   "id": "e384570d",
   "metadata": {},
   "outputs": [],
   "source": [
    "# 2. Most profitable vendor\n",
    "vendor_profit = df.groupby('Firm bought from')['Profit'].sum()\n",
    "most_profitable_vendor = vendor_profit.idxmax()"
   ]
  },
  {
   "cell_type": "code",
   "execution_count": 11,
   "id": "ad0d4e07",
   "metadata": {},
   "outputs": [
    {
     "name": "stdout",
     "output_type": "stream",
     "text": [
      "Vendor4\n"
     ]
    }
   ],
   "source": [
    "print(most_profitable_vendor)"
   ]
  },
  {
   "cell_type": "code",
   "execution_count": 12,
   "id": "a8277b7b",
   "metadata": {},
   "outputs": [],
   "source": [
    "# 3. Least profitable customer\n",
    "customer_profit = df.groupby('Customer')['Profit'].sum()\n",
    "least_profitable_customer = customer_profit.idxmin()"
   ]
  },
  {
   "cell_type": "code",
   "execution_count": 13,
   "id": "519375b4",
   "metadata": {},
   "outputs": [
    {
     "name": "stdout",
     "output_type": "stream",
     "text": [
      "Customer3\n"
     ]
    }
   ],
   "source": [
    "print(least_profitable_customer)"
   ]
  },
  {
   "cell_type": "code",
   "execution_count": 19,
   "id": "8a7c6377",
   "metadata": {},
   "outputs": [],
   "source": [
    "# 4. Most profitable day of the week\n",
    "df['Date'] = pd.to_datetime(df['Date'], format='%d/%m/%y')\n",
    "df['Day of Week'] = df['Date'].dt.day_name()\n",
    "day_of_week_profit = df.groupby('Day of Week')['Profit'].sum()\n",
    "most_profitable_day = day_of_week_profit.idxmax()"
   ]
  },
  {
   "cell_type": "code",
   "execution_count": 20,
   "id": "6ffd219b",
   "metadata": {},
   "outputs": [
    {
     "name": "stdout",
     "output_type": "stream",
     "text": [
      "Monday\n"
     ]
    }
   ],
   "source": [
    "print(most_profitable_day)"
   ]
  },
  {
   "cell_type": "code",
   "execution_count": 21,
   "id": "1508d833",
   "metadata": {},
   "outputs": [],
   "source": [
    "# 5. Least profitable day of the week\n",
    "least_profitable_day = day_of_week_profit.idxmin()"
   ]
  },
  {
   "cell_type": "code",
   "execution_count": 22,
   "id": "f2ec0e16",
   "metadata": {},
   "outputs": [
    {
     "name": "stdout",
     "output_type": "stream",
     "text": [
      "Sunday\n"
     ]
    }
   ],
   "source": [
    "print(least_profitable_day)"
   ]
  },
  {
   "cell_type": "code",
   "execution_count": 18,
   "id": "685ae81c",
   "metadata": {},
   "outputs": [
    {
     "name": "stdout",
     "output_type": "stream",
     "text": [
      "1. Overall Gross Margin: 24.63%\n",
      "2. Most Profitable Vendor: Vendor4\n",
      "3. Least Profitable Customer: Customer3\n",
      "4. Most Profitable Day of the Week: Monday\n",
      "5. Least Profitable Day of the Week: Sunday\n"
     ]
    }
   ],
   "source": [
    "# Display the results\n",
    "print(f\"1. Overall Gross Margin: {overall_gross_margin:.2%}\")\n",
    "print(f\"2. Most Profitable Vendor: {most_profitable_vendor}\")\n",
    "print(f\"3. Least Profitable Customer: {least_profitable_customer}\")\n",
    "print(f\"4. Most Profitable Day of the Week: {most_profitable_day}\")\n",
    "print(f\"5. Least Profitable Day of the Week: {least_profitable_day}\")"
   ]
  },
  {
   "cell_type": "code",
   "execution_count": null,
   "id": "552109a9",
   "metadata": {},
   "outputs": [],
   "source": []
  }
 ],
 "metadata": {
  "kernelspec": {
   "display_name": "Python 3",
   "language": "python",
   "name": "python3"
  },
  "language_info": {
   "codemirror_mode": {
    "name": "ipython",
    "version": 3
   },
   "file_extension": ".py",
   "mimetype": "text/x-python",
   "name": "python",
   "nbconvert_exporter": "python",
   "pygments_lexer": "ipython3",
   "version": "3.8.8"
  }
 },
 "nbformat": 4,
 "nbformat_minor": 5
}
