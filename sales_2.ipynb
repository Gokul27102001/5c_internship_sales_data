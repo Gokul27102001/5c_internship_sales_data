{
 "cells": [
  {
   "cell_type": "code",
   "execution_count": 22,
   "id": "f1f21803",
   "metadata": {},
   "outputs": [],
   "source": [
    " import pandas as pd\n",
    "\n",
    "# Load the dataset from sales_data_2.csv\n",
    "data = pd.read_csv(\"sales_data_2.csv\")\n"
   ]
  },
  {
   "cell_type": "code",
   "execution_count": 23,
   "id": "7a0a6ac3",
   "metadata": {},
   "outputs": [
    {
     "data": {
      "text/html": [
       "<div>\n",
       "<style scoped>\n",
       "    .dataframe tbody tr th:only-of-type {\n",
       "        vertical-align: middle;\n",
       "    }\n",
       "\n",
       "    .dataframe tbody tr th {\n",
       "        vertical-align: top;\n",
       "    }\n",
       "\n",
       "    .dataframe thead th {\n",
       "        text-align: right;\n",
       "    }\n",
       "</style>\n",
       "<table border=\"1\" class=\"dataframe\">\n",
       "  <thead>\n",
       "    <tr style=\"text-align: right;\">\n",
       "      <th></th>\n",
       "      <th>Date</th>\n",
       "      <th>Firm bought from</th>\n",
       "      <th>Buying price</th>\n",
       "      <th>Quantity bought</th>\n",
       "      <th>Customer</th>\n",
       "      <th>Selling price</th>\n",
       "      <th>Quantity sold</th>\n",
       "    </tr>\n",
       "  </thead>\n",
       "  <tbody>\n",
       "    <tr>\n",
       "      <th>0</th>\n",
       "      <td>2023-08-21</td>\n",
       "      <td>Vendor6</td>\n",
       "      <td>72.11</td>\n",
       "      <td>60</td>\n",
       "      <td>Customer7</td>\n",
       "      <td>91.58</td>\n",
       "      <td>44</td>\n",
       "    </tr>\n",
       "    <tr>\n",
       "      <th>1</th>\n",
       "      <td>2023-08-21</td>\n",
       "      <td>Vendor4</td>\n",
       "      <td>75.08</td>\n",
       "      <td>92</td>\n",
       "      <td>Customer7</td>\n",
       "      <td>83.71</td>\n",
       "      <td>17</td>\n",
       "    </tr>\n",
       "    <tr>\n",
       "      <th>2</th>\n",
       "      <td>2023-08-21</td>\n",
       "      <td>Vendor7</td>\n",
       "      <td>83.93</td>\n",
       "      <td>16</td>\n",
       "      <td>Customer2</td>\n",
       "      <td>103.76</td>\n",
       "      <td>15</td>\n",
       "    </tr>\n",
       "    <tr>\n",
       "      <th>3</th>\n",
       "      <td>2023-08-21</td>\n",
       "      <td>Vendor7</td>\n",
       "      <td>52.01</td>\n",
       "      <td>62</td>\n",
       "      <td>Customer3</td>\n",
       "      <td>64.53</td>\n",
       "      <td>7</td>\n",
       "    </tr>\n",
       "    <tr>\n",
       "      <th>4</th>\n",
       "      <td>2023-08-21</td>\n",
       "      <td>Vendor2</td>\n",
       "      <td>98.91</td>\n",
       "      <td>1</td>\n",
       "      <td>Customer5</td>\n",
       "      <td>140.92</td>\n",
       "      <td>1</td>\n",
       "    </tr>\n",
       "  </tbody>\n",
       "</table>\n",
       "</div>"
      ],
      "text/plain": [
       "         Date Firm bought from  Buying price  Quantity bought   Customer  \\\n",
       "0  2023-08-21          Vendor6         72.11               60  Customer7   \n",
       "1  2023-08-21          Vendor4         75.08               92  Customer7   \n",
       "2  2023-08-21          Vendor7         83.93               16  Customer2   \n",
       "3  2023-08-21          Vendor7         52.01               62  Customer3   \n",
       "4  2023-08-21          Vendor2         98.91                1  Customer5   \n",
       "\n",
       "   Selling price  Quantity sold  \n",
       "0          91.58             44  \n",
       "1          83.71             17  \n",
       "2         103.76             15  \n",
       "3          64.53              7  \n",
       "4         140.92              1  "
      ]
     },
     "execution_count": 23,
     "metadata": {},
     "output_type": "execute_result"
    }
   ],
   "source": [
    "data.head()"
   ]
  },
  {
   "cell_type": "code",
   "execution_count": 24,
   "id": "38cac888",
   "metadata": {},
   "outputs": [
    {
     "name": "stdout",
     "output_type": "stream",
     "text": [
      "1. 3-Day Average of Daily Gross Profit:\n",
      "         Date  3-Day Avg Gross Profit\n",
      "0  2023-08-21                     NaN\n",
      "1  2023-08-21                     NaN\n",
      "2  2023-08-21              433.613333\n",
      "3  2023-08-21              177.266667\n",
      "4  2023-08-21              142.366667\n",
      "..        ...                     ...\n",
      "65 2023-08-27              552.863333\n",
      "66 2023-08-27              552.070000\n",
      "67 2023-08-27              479.726667\n",
      "68 2023-08-27              386.093333\n",
      "69 2023-08-27              366.720000\n",
      "\n",
      "[70 rows x 2 columns]\n",
      "\n",
      "3. Vendors to Remove (consistently lower margins):\n",
      "Firm bought from\n",
      "Vendor1    311.118000\n",
      "Vendor2    117.907273\n",
      "Vendor5    230.877143\n",
      "Vendor7    354.360714\n",
      "Vendor8     84.580000\n",
      "Name: Gross Profit, dtype: float64\n",
      "\n",
      "3. Customers to Let Go (consistently lower margins):\n",
      "Customer\n",
      "Customer3    150.721429\n",
      "Customer5    187.897143\n",
      "Customer6    275.822857\n",
      "Customer7    313.945714\n",
      "Customer9    385.816000\n",
      "Name: Gross Profit, dtype: float64\n",
      "\n",
      "4. Percentiles for Buying and Selling Prices:\n",
      "      Buying price  Selling price\n",
      "0.25         29.90        38.9750\n",
      "0.50         60.76        78.9900\n",
      "0.75         78.32       103.3975\n",
      "\n",
      "5. Sapota's Prices Falling Below 25th Percentile or Above 75th Percentile:\n",
      "Sapota's prices below 25th percentile: 0 times\n",
      "Sapota's prices above 75th percentile: 0 times\n"
     ]
    }
   ],
   "source": [
    "# 1. Calculate a 3-day average of the daily gross profit\n",
    "data['Date'] = pd.to_datetime(data['Date'])\n",
    "data['Gross Profit'] = (data['Selling price'] - data['Buying price']) * data['Quantity sold']\n",
    "data['3-Day Avg Gross Profit'] = data['Gross Profit'].rolling(window=3).mean()\n",
    "\n",
    "\n",
    "\n",
    "# 3. Optimize the sales process to maximize gross margin\n",
    "vendor_avg_margin = data.groupby('Firm bought from')['Gross Profit'].mean()\n",
    "vendors_to_remove = vendor_avg_margin[vendor_avg_margin < vendor_avg_margin.median()]\n",
    "\n",
    "customer_avg_margin = data.groupby('Customer')['Gross Profit'].mean()\n",
    "customers_to_let_go = customer_avg_margin[customer_avg_margin < customer_avg_margin.median()]\n",
    "\n",
    "# 4. Calculate the 25th, 50th (median), and 75th percentiles for both buying and selling prices\n",
    "percentiles = data[['Buying price', 'Selling price']].quantile([0.25, 0.50, 0.75])\n",
    "\n",
    "# 5. Analyze how often Sapota's prices fall below the 25th percentile or above the 75th percentile\n",
    "sapota_data = data[data['Firm bought from'] == 'Sapota']\n",
    "below_25th_percentile = len(sapota_data[sapota_data['Buying price'] < percentiles.loc[0.25, 'Buying price']])\n",
    "above_75th_percentile = len(sapota_data[sapota_data['Selling price'] > percentiles.loc[0.75, 'Selling price']])\n",
    "\n",
    "# Display the results\n",
    "print(\"1. 3-Day Average of Daily Gross Profit:\")\n",
    "print(data[['Date', '3-Day Avg Gross Profit']])\n",
    "\n",
    "print(\"\\n3. Vendors to Remove (consistently lower margins):\")\n",
    "print(vendors_to_remove)\n",
    "\n",
    "print(\"\\n3. Customers to Let Go (consistently lower margins):\")\n",
    "print(customers_to_let_go)\n",
    "\n",
    "print(\"\\n4. Percentiles for Buying and Selling Prices:\")\n",
    "print(percentiles)\n",
    "\n",
    "print(\"\\n5. Sapota's Prices Falling Below 25th Percentile or Above 75th Percentile:\")\n",
    "print(f\"Sapota's prices below 25th percentile: {below_25th_percentile} times\")\n",
    "print(f\"Sapota's prices above 75th percentile: {above_75th_percentile} times\")"
   ]
  },
  {
   "cell_type": "code",
   "execution_count": 25,
   "id": "1065b11d",
   "metadata": {},
   "outputs": [
    {
     "data": {
      "image/png": "[encoded data removed]",
      "text/plain": [
       "<Figure size 864x432 with 1 Axes>"
      ]
     },
     "metadata": {
      "needs_background": "light"
     },
     "output_type": "display_data"
    }
   ],
   "source": [
    "import matplotlib.pyplot as plt\n",
    "# Plot the 3-day trend of daily gross profit\n",
    "plt.figure(figsize=(12, 6))\n",
    "plt.plot(data['Date'], data['3-Day Avg Gross Profit'], label='3-Day Avg Gross Profit', color='blue')\n",
    "plt.title('3-Day Trend of Daily Gross Profit')\n",
    "plt.xlabel('Date')\n",
    "plt.ylabel('3-Day Avg Gross Profit')\n",
    "plt.grid(True)\n",
    "plt.legend()\n",
    "plt.show()\n"
   ]
  },
  {
   "cell_type": "code",
   "execution_count": 30,
   "id": "c6613a8e",
   "metadata": {},
   "outputs": [
    {
     "name": "stdout",
     "output_type": "stream",
     "text": [
      "1. Impact on Gross Margin by Honoring Vendor 4: 1.899635701275045\n"
     ]
    }
   ],
   "source": [
    "# Calculate gross profit with Vendor 4\n",
    "gross_profit_with_vendor4 = (data[data['Firm bought from'] == 'Vendor4']['Selling price'] - data[data['Firm bought from'] == 'Vendor4']['Buying price']).mean()\n",
    "\n",
    "# Calculate gross profit without Vendor 4\n",
    "data_without_vendor4 = data[data['Firm bought from'] != 'Vendor4']\n",
    "gross_profit_without_vendor4 = (data_without_vendor4['Selling price'] - data_without_vendor4['Buying price']).mean()\n",
    "\n",
    "# Calculate the impact on gross margin\n",
    "impact_on_gross_margin = gross_profit_with_vendor4 - gross_profit_without_vendor4\n",
    "\n",
    "print(f\"1. Impact on Gross Margin by Honoring Vendor 4: {impact_on_gross_margin}\")\n"
   ]
  },
  {
   "cell_type": "code",
   "execution_count": 31,
   "id": "b09a9823",
   "metadata": {},
   "outputs": [
    {
     "name": "stdout",
     "output_type": "stream",
     "text": [
      "2. Vendor with Highest Gross Margin for Strategic Tie-Up: Vendor3\n",
      "Theoretical Maximum Gross Margin: 1061.7783333333334\n"
     ]
    }
   ],
   "source": [
    "# Calculate the average gross margin for each vendor\n",
    "vendor_avg_margin = data.groupby('Firm bought from')['Gross Profit'].mean()\n",
    "\n",
    "# Identify the vendor with the highest average gross margin\n",
    "highest_margin_vendor = vendor_avg_margin.idxmax()\n",
    "\n",
    "# Calculate the theoretical maximum margin by sourcing only from the highest margin vendor\n",
    "theoretical_max_margin = vendor_avg_margin.max()\n",
    "\n",
    "print(f\"2. Vendor with Highest Gross Margin for Strategic Tie-Up: {highest_margin_vendor}\")\n",
    "print(f\"Theoretical Maximum Gross Margin: {theoretical_max_margin}\")\n"
   ]
  },
  {
   "cell_type": "code",
   "execution_count": 32,
   "id": "f5dabd7a",
   "metadata": {},
   "outputs": [
    {
     "name": "stderr",
     "output_type": "stream",
     "text": [
      "C:\\Users\\gokul\\anaconda3\\lib\\site-packages\\scipy\\__init__.py:138: UserWarning: A NumPy version >=1.16.5 and <1.23.0 is required for this version of SciPy (detected version 1.23.5)\n",
      "  warnings.warn(f\"A NumPy version >={np_minversion} and <{np_maxversion} is required for this version of \"\n"
     ]
    },
    {
     "name": "stdout",
     "output_type": "stream",
     "text": [
      "Price Elasticity: 0.023832881149938888\n"
     ]
    },
    {
     "name": "stderr",
     "output_type": "stream",
     "text": [
      "C:\\Users\\gokul\\anaconda3\\lib\\site-packages\\statsmodels\\tsa\\tsatools.py:142: FutureWarning: In a future version of pandas all arguments of concat except for the argument 'objs' will be keyword-only\n",
      "  x = pd.concat(x[::order], 1)\n"
     ]
    }
   ],
   "source": [
    "import statsmodels.api as sm\n",
    "\n",
    "# Assuming you have price and quantity data\n",
    "X = data['Selling price']\n",
    "y = data['Quantity sold']\n",
    "\n",
    "X = sm.add_constant(X)  # Add a constant for the intercept\n",
    "model = sm.OLS(y, X).fit()\n",
    "elasticity = model.params['Selling price']\n",
    "\n",
    "print(f\"Price Elasticity: {elasticity}\")\n"
   ]
  },
  {
   "cell_type": "code",
   "execution_count": null,
   "id": "40fcb338",
   "metadata": {},
   "outputs": [],
   "source": []
  }
 ],
 "metadata": {
  "kernelspec": {
   "display_name": "Python 3",
   "language": "python",
   "name": "python3"
  },
  "language_info": {
   "codemirror_mode": {
    "name": "ipython",
    "version": 3
   },
   "file_extension": ".py",
   "mimetype": "text/x-python",
   "name": "python",
   "nbconvert_exporter": "python",
   "pygments_lexer": "ipython3",
   "version": "3.8.8"
  }
 },
 "nbformat": 4,
 "nbformat_minor": 5
}
